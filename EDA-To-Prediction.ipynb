{
 "cells": [
  {
   "cell_type": "markdown",
   "metadata": {},
   "source": [
    "* **Part1: Exploratory Data Analysis(EDA):**\n",
    "    * Analysis of the features.\n",
    "    * Finding any felations or trends considering multiple features.\n",
    "* **Part2: Feature Engineering and Data Cleaning:**\n",
    "    * Adding any few features.\n",
    "    * Removing redundant features.\n",
    "    * Converting features into suitable form for modeling.\n",
    "* **Part3: Predictive Modeling:**\n",
    "    * Running Basic Algorithms.\n",
    "    * Cross Validation.\n",
    "    * Ensembling.\n",
    "    * Important Features Extraction."
   ]
  },
  {
   "cell_type": "markdown",
   "metadata": {},
   "source": [
    "## Part1: Exploratory Data Analysis(EDA)"
   ]
  },
  {
   "cell_type": "code",
   "execution_count": 112,
   "metadata": {
    "collapsed": true
   },
   "outputs": [],
   "source": [
    "import numpy as np\n",
    "import pandas as pd\n",
    "import matplotlib.pyplot as plt\n",
    "import seaborn as sns # a style of show like matplotlib\n",
    "plt.style.use('fivethirtyeight') # a style of matplotlib\n",
    "import warnings\n",
    "warnings.filterwarnings('ignore') # ignore warnings\n",
    "%matplotlib inline"
   ]
  },
  {
   "cell_type": "code",
   "execution_count": 24,
   "metadata": {
    "collapsed": true
   },
   "outputs": [],
   "source": [
    "data = pd.read_csv('train.csv')"
   ]
  },
  {
   "cell_type": "code",
   "execution_count": 25,
   "metadata": {
    "scrolled": true
   },
   "outputs": [
    {
     "data": {
      "text/html": [
       "<div>\n",
       "<style>\n",
       "    .dataframe thead tr:only-child th {\n",
       "        text-align: right;\n",
       "    }\n",
       "\n",
       "    .dataframe thead th {\n",
       "        text-align: left;\n",
       "    }\n",
       "\n",
       "    .dataframe tbody tr th {\n",
       "        vertical-align: top;\n",
       "    }\n",
       "</style>\n",
       "<table border=\"1\" class=\"dataframe\">\n",
       "  <thead>\n",
       "    <tr style=\"text-align: right;\">\n",
       "      <th></th>\n",
       "      <th>PassengerId</th>\n",
       "      <th>Survived</th>\n",
       "      <th>Pclass</th>\n",
       "      <th>Name</th>\n",
       "      <th>Sex</th>\n",
       "      <th>Age</th>\n",
       "      <th>SibSp</th>\n",
       "      <th>Parch</th>\n",
       "      <th>Ticket</th>\n",
       "      <th>Fare</th>\n",
       "      <th>Cabin</th>\n",
       "      <th>Embarked</th>\n",
       "    </tr>\n",
       "  </thead>\n",
       "  <tbody>\n",
       "    <tr>\n",
       "      <th>0</th>\n",
       "      <td>1</td>\n",
       "      <td>0</td>\n",
       "      <td>3</td>\n",
       "      <td>Braund, Mr. Owen Harris</td>\n",
       "      <td>male</td>\n",
       "      <td>22.0</td>\n",
       "      <td>1</td>\n",
       "      <td>0</td>\n",
       "      <td>A/5 21171</td>\n",
       "      <td>7.2500</td>\n",
       "      <td>NaN</td>\n",
       "      <td>S</td>\n",
       "    </tr>\n",
       "    <tr>\n",
       "      <th>1</th>\n",
       "      <td>2</td>\n",
       "      <td>1</td>\n",
       "      <td>1</td>\n",
       "      <td>Cumings, Mrs. John Bradley (Florence Briggs Th...</td>\n",
       "      <td>female</td>\n",
       "      <td>38.0</td>\n",
       "      <td>1</td>\n",
       "      <td>0</td>\n",
       "      <td>PC 17599</td>\n",
       "      <td>71.2833</td>\n",
       "      <td>C85</td>\n",
       "      <td>C</td>\n",
       "    </tr>\n",
       "    <tr>\n",
       "      <th>2</th>\n",
       "      <td>3</td>\n",
       "      <td>1</td>\n",
       "      <td>3</td>\n",
       "      <td>Heikkinen, Miss. Laina</td>\n",
       "      <td>female</td>\n",
       "      <td>26.0</td>\n",
       "      <td>0</td>\n",
       "      <td>0</td>\n",
       "      <td>STON/O2. 3101282</td>\n",
       "      <td>7.9250</td>\n",
       "      <td>NaN</td>\n",
       "      <td>S</td>\n",
       "    </tr>\n",
       "    <tr>\n",
       "      <th>3</th>\n",
       "      <td>4</td>\n",
       "      <td>1</td>\n",
       "      <td>1</td>\n",
       "      <td>Futrelle, Mrs. Jacques Heath (Lily May Peel)</td>\n",
       "      <td>female</td>\n",
       "      <td>35.0</td>\n",
       "      <td>1</td>\n",
       "      <td>0</td>\n",
       "      <td>113803</td>\n",
       "      <td>53.1000</td>\n",
       "      <td>C123</td>\n",
       "      <td>S</td>\n",
       "    </tr>\n",
       "    <tr>\n",
       "      <th>4</th>\n",
       "      <td>5</td>\n",
       "      <td>0</td>\n",
       "      <td>3</td>\n",
       "      <td>Allen, Mr. William Henry</td>\n",
       "      <td>male</td>\n",
       "      <td>35.0</td>\n",
       "      <td>0</td>\n",
       "      <td>0</td>\n",
       "      <td>373450</td>\n",
       "      <td>8.0500</td>\n",
       "      <td>NaN</td>\n",
       "      <td>S</td>\n",
       "    </tr>\n",
       "  </tbody>\n",
       "</table>\n",
       "</div>"
      ],
      "text/plain": [
       "   PassengerId  Survived  Pclass  \\\n",
       "0            1         0       3   \n",
       "1            2         1       1   \n",
       "2            3         1       3   \n",
       "3            4         1       1   \n",
       "4            5         0       3   \n",
       "\n",
       "                                                Name     Sex   Age  SibSp  \\\n",
       "0                            Braund, Mr. Owen Harris    male  22.0      1   \n",
       "1  Cumings, Mrs. John Bradley (Florence Briggs Th...  female  38.0      1   \n",
       "2                             Heikkinen, Miss. Laina  female  26.0      0   \n",
       "3       Futrelle, Mrs. Jacques Heath (Lily May Peel)  female  35.0      1   \n",
       "4                           Allen, Mr. William Henry    male  35.0      0   \n",
       "\n",
       "   Parch            Ticket     Fare Cabin Embarked  \n",
       "0      0         A/5 21171   7.2500   NaN        S  \n",
       "1      0          PC 17599  71.2833   C85        C  \n",
       "2      0  STON/O2. 3101282   7.9250   NaN        S  \n",
       "3      0            113803  53.1000  C123        S  \n",
       "4      0            373450   8.0500   NaN        S  "
      ]
     },
     "execution_count": 25,
     "metadata": {},
     "output_type": "execute_result"
    }
   ],
   "source": [
    "data.head()"
   ]
  },
  {
   "cell_type": "code",
   "execution_count": 26,
   "metadata": {},
   "outputs": [
    {
     "data": {
      "text/plain": [
       "PassengerId      0\n",
       "Survived         0\n",
       "Pclass           0\n",
       "Name             0\n",
       "Sex              0\n",
       "Age            177\n",
       "SibSp            0\n",
       "Parch            0\n",
       "Ticket           0\n",
       "Fare             0\n",
       "Cabin          687\n",
       "Embarked         2\n",
       "dtype: int64"
      ]
     },
     "execution_count": 26,
     "metadata": {},
     "output_type": "execute_result"
    }
   ],
   "source": [
    "data.isnull().sum() # checking for total null values"
   ]
  },
  {
   "cell_type": "markdown",
   "metadata": {},
   "source": [
    "The **Age, Cabin and Embarked** have null values. I will try to fix them."
   ]
  },
  {
   "cell_type": "markdown",
   "metadata": {},
   "source": [
    "### How many Survived?"
   ]
  },
  {
   "cell_type": "code",
   "execution_count": 86,
   "metadata": {},
   "outputs": [
    {
     "data": {
      "image/png": "[encoded data removed]",
      "text/plain": [
       "<matplotlib.figure.Figure at 0x1187c5b00>"
      ]
     },
     "metadata": {},
     "output_type": "display_data"
    }
   ],
   "source": [
    "f, ax = plt.subplots(1, 2, figsize=(14, 6)) \n",
    "# layouts of subplots, figsize = width, height in inches. If not provided, defaults to rc figure.figsize.\n",
    "# ax[0] for percent, ax[1] for counts\n",
    "data['Survived'].value_counts().plot.pie(explode=[0, 0.1], autopct='%1.1f%%', ax=ax[0], shadow=True)\n",
    "ax[0].set_title('Survived')\n",
    "ax[0].set_ylabel('')\n",
    "sns.countplot('Survived', data=data, ax=ax[1])\n",
    "ax[1].set_title('Survived')\n",
    "plt.show()"
   ]
  },
  {
   "cell_type": "markdown",
   "metadata": {},
   "source": [
    "It is evident that not many passengers survived the accident.\n",
    "\n",
    "Out of 891 passengers in training set, only around 350 survived i.e Only 38.4% of the total training set survived the crash.\n",
    "We need to dig down more to get better insights from the data and see which categories of the passengers did survive and\n",
    "who didn't.\n",
    "\n",
    "We will try to check the survival rate by using the different features of the dataset. Some of the features being Sex, Port Of\n",
    "Embarcation, Age, etc.\n",
    "\n",
    "First let us understand the different types of features."
   ]
  },
  {
   "cell_type": "markdown",
   "metadata": {},
   "source": [
    "## Types Of Features\n",
    "### Categorical Features:\n",
    "A categorical variable is one that has two or more categories and each value in that feature can be categorised by them. For example, gender is a categorical variable having two categories(male and female). Now we cannot sort or give any ordering to such variables. They are also known as **Nominal Variables.**\n",
    "\n",
    "**Categorical Features in the dataset: Sex, Embarked.**\n",
    "\n",
    "### Ordinal Features:\n",
    "An ordinal variable is similar to categorical values, but the difference between them is that we can have relative ordering or sorting between the values. For eg: If we have a feature like **Height** with values **Tall, Medium, Short,** then Height is a ordinal variable. Here we can have a relative sort in the variable.\n",
    "\n",
    "**Ordinal Features in the dataset: Pclass**\n",
    "\n",
    "### Continous Feature:\n",
    "A feature is said to be continous if it can take values between any two points or between the minimum or maximum values in the features column.\n",
    "\n",
    "**Coninous Features in the dataset:Age**"
   ]
  },
  {
   "cell_type": "markdown",
   "metadata": {},
   "source": [
    "## Analysing The Features"
   ]
  },
  {
   "cell_type": "markdown",
   "metadata": {},
   "source": [
    "### Sex --> Categorical Feature"
   ]
  },
  {
   "cell_type": "code",
   "execution_count": 93,
   "metadata": {},
   "outputs": [
    {
     "data": {
      "text/plain": [
       "Sex     Survived\n",
       "female  0            81\n",
       "        1           233\n",
       "male    0           468\n",
       "        1           109\n",
       "Name: Survived, dtype: int64"
      ]
     },
     "execution_count": 93,
     "metadata": {},
     "output_type": "execute_result"
    }
   ],
   "source": [
    "data.groupby(['Sex', 'Survived'])['Survived'].count()"
   ]
  },
  {
   "cell_type": "code",
   "execution_count": 106,
   "metadata": {},
   "outputs": [
    {
     "data": {
      "text/html": [
       "<div>\n",
       "<style>\n",
       "    .dataframe thead tr:only-child th {\n",
       "        text-align: right;\n",
       "    }\n",
       "\n",
       "    .dataframe thead th {\n",
       "        text-align: left;\n",
       "    }\n",
       "\n",
       "    .dataframe tbody tr th {\n",
       "        vertical-align: top;\n",
       "    }\n",
       "</style>\n",
       "<table border=\"1\" class=\"dataframe\">\n",
       "  <thead>\n",
       "    <tr style=\"text-align: right;\">\n",
       "      <th></th>\n",
       "      <th>Survived</th>\n",
       "    </tr>\n",
       "    <tr>\n",
       "      <th>Sex</th>\n",
       "      <th></th>\n",
       "    </tr>\n",
       "  </thead>\n",
       "  <tbody>\n",
       "    <tr>\n",
       "      <th>female</th>\n",
       "      <td>0.742038</td>\n",
       "    </tr>\n",
       "    <tr>\n",
       "      <th>male</th>\n",
       "      <td>0.188908</td>\n",
       "    </tr>\n",
       "  </tbody>\n",
       "</table>\n",
       "</div>"
      ],
      "text/plain": [
       "        Survived\n",
       "Sex             \n",
       "female  0.742038\n",
       "male    0.188908"
      ]
     },
     "execution_count": 106,
     "metadata": {},
     "output_type": "execute_result"
    }
   ],
   "source": [
    "data[['Sex', 'Survived']].groupby(['Sex']).mean()"
   ]
  },
  {
   "cell_type": "code",
   "execution_count": 111,
   "metadata": {},
   "outputs": [
    {
     "data": {
      "image/png": "[encoded data removed]",
      "text/plain": [
       "<matplotlib.figure.Figure at 0x118fe15f8>"
      ]
     },
     "metadata": {},
     "output_type": "display_data"
    }
   ],
   "source": [
    "f, ax = plt.subplots(1, 2, figsize=(14, 6))\n",
    "data[['Sex', 'Survived']].groupby(['Sex']).mean().plot.bar(ax=ax[0])\n",
    "ax[0].set_title('Survived vs Sex')\n",
    "sns.countplot('Sex', hue='Survived', data=data, ax=ax[1])\n",
    "ax[1].set_title('Sex: Sruvived vs Dead')\n",
    "plt.show()"
   ]
  },
  {
   "cell_type": "markdown",
   "metadata": {},
   "source": [
    "This looks interesting. The number of men on the ship is lot more than the number of women. Still the number of women saved is almost twice the number of males saved. The survival rates for a **women on the ship is around 75% while that for men in around 18-19%.**\n",
    "\n",
    "This looks to be a **very important** feature for modeling. But is it the best?? Lets check other features."
   ]
  },
  {
   "cell_type": "markdown",
   "metadata": {
    "collapsed": true
   },
   "source": [
    "### Pclass --> Ordinal Feature"
   ]
  },
  {
   "cell_type": "code",
   "execution_count": 117,
   "metadata": {},
   "outputs": [
    {
     "data": {
      "text/html": [
       "<style  type=\"text/css\" >\n",
       "    #T_01d5df5a_fa88_11e7_a8d2_784f435f77b9row0_col0 {\n",
       "            background-color:  #ffff66;\n",
       "        }    #T_01d5df5a_fa88_11e7_a8d2_784f435f77b9row0_col1 {\n",
       "            background-color:  #cee666;\n",
       "        }    #T_01d5df5a_fa88_11e7_a8d2_784f435f77b9row0_col2 {\n",
       "            background-color:  #f4fa66;\n",
       "        }    #T_01d5df5a_fa88_11e7_a8d2_784f435f77b9row1_col0 {\n",
       "            background-color:  #f6fa66;\n",
       "        }    #T_01d5df5a_fa88_11e7_a8d2_784f435f77b9row1_col1 {\n",
       "            background-color:  #ffff66;\n",
       "        }    #T_01d5df5a_fa88_11e7_a8d2_784f435f77b9row1_col2 {\n",
       "            background-color:  #ffff66;\n",
       "        }    #T_01d5df5a_fa88_11e7_a8d2_784f435f77b9row2_col0 {\n",
       "            background-color:  #60b066;\n",
       "        }    #T_01d5df5a_fa88_11e7_a8d2_784f435f77b9row2_col1 {\n",
       "            background-color:  #dfef66;\n",
       "        }    #T_01d5df5a_fa88_11e7_a8d2_784f435f77b9row2_col2 {\n",
       "            background-color:  #90c866;\n",
       "        }    #T_01d5df5a_fa88_11e7_a8d2_784f435f77b9row3_col0 {\n",
       "            background-color:  #008066;\n",
       "        }    #T_01d5df5a_fa88_11e7_a8d2_784f435f77b9row3_col1 {\n",
       "            background-color:  #008066;\n",
       "        }    #T_01d5df5a_fa88_11e7_a8d2_784f435f77b9row3_col2 {\n",
       "            background-color:  #008066;\n",
       "        }</style>  \n",
       "<table id=\"T_01d5df5a_fa88_11e7_a8d2_784f435f77b9\" > \n",
       "<thead>    <tr> \n",
       "        <th class=\"index_name level0\" >Survived</th> \n",
       "        <th class=\"col_heading level0 col0\" >0</th> \n",
       "        <th class=\"col_heading level0 col1\" >1</th> \n",
       "        <th class=\"col_heading level0 col2\" >All</th> \n",
       "    </tr>    <tr> \n",
       "        <th class=\"index_name level0\" >Pclass</th> \n",
       "        <th class=\"blank\" ></th> \n",
       "        <th class=\"blank\" ></th> \n",
       "        <th class=\"blank\" ></th> \n",
       "    </tr></thead> \n",
       "<tbody>    <tr> \n",
       "        <th id=\"T_01d5df5a_fa88_11e7_a8d2_784f435f77b9level0_row0\" class=\"row_heading level0 row0\" >1</th> \n",
       "        <td id=\"T_01d5df5a_fa88_11e7_a8d2_784f435f77b9row0_col0\" class=\"data row0 col0\" >80</td> \n",
       "        <td id=\"T_01d5df5a_fa88_11e7_a8d2_784f435f77b9row0_col1\" class=\"data row0 col1\" >136</td> \n",
       "        <td id=\"T_01d5df5a_fa88_11e7_a8d2_784f435f77b9row0_col2\" class=\"data row0 col2\" >216</td> \n",
       "    </tr>    <tr> \n",
       "        <th id=\"T_01d5df5a_fa88_11e7_a8d2_784f435f77b9level0_row1\" class=\"row_heading level0 row1\" >2</th> \n",
       "        <td id=\"T_01d5df5a_fa88_11e7_a8d2_784f435f77b9row1_col0\" class=\"data row1 col0\" >97</td> \n",
       "        <td id=\"T_01d5df5a_fa88_11e7_a8d2_784f435f77b9row1_col1\" class=\"data row1 col1\" >87</td> \n",
       "        <td id=\"T_01d5df5a_fa88_11e7_a8d2_784f435f77b9row1_col2\" class=\"data row1 col2\" >184</td> \n",
       "    </tr>    <tr> \n",
       "        <th id=\"T_01d5df5a_fa88_11e7_a8d2_784f435f77b9level0_row2\" class=\"row_heading level0 row2\" >3</th> \n",
       "        <td id=\"T_01d5df5a_fa88_11e7_a8d2_784f435f77b9row2_col0\" class=\"data row2 col0\" >372</td> \n",
       "        <td id=\"T_01d5df5a_fa88_11e7_a8d2_784f435f77b9row2_col1\" class=\"data row2 col1\" >119</td> \n",
       "        <td id=\"T_01d5df5a_fa88_11e7_a8d2_784f435f77b9row2_col2\" class=\"data row2 col2\" >491</td> \n",
       "    </tr>    <tr> \n",
       "        <th id=\"T_01d5df5a_fa88_11e7_a8d2_784f435f77b9level0_row3\" class=\"row_heading level0 row3\" >All</th> \n",
       "        <td id=\"T_01d5df5a_fa88_11e7_a8d2_784f435f77b9row3_col0\" class=\"data row3 col0\" >549</td> \n",
       "        <td id=\"T_01d5df5a_fa88_11e7_a8d2_784f435f77b9row3_col1\" class=\"data row3 col1\" >342</td> \n",
       "        <td id=\"T_01d5df5a_fa88_11e7_a8d2_784f435f77b9row3_col2\" class=\"data row3 col2\" >891</td> \n",
       "    </tr></tbody> \n",
       "</table> "
      ],
      "text/plain": [
       "<pandas.io.formats.style.Styler at 0x1189887b8>"
      ]
     },
     "execution_count": 117,
     "metadata": {},
     "output_type": "execute_result"
    }
   ],
   "source": [
    "pd.crosstab(data.Pclass, data.Survived, margins=True).style.background_gradient(cmap='summer_r')"
   ]
  },
  {
   "cell_type": "code",
   "execution_count": 125,
   "metadata": {},
   "outputs": [
    {
     "data": {
      "image/png": "[encoded data removed]",
      "text/plain": [
       "<matplotlib.figure.Figure at 0x1160df8d0>"
      ]
     },
     "metadata": {},
     "output_type": "display_data"
    }
   ],
   "source": [
    "f,ax = plt.subplots(1, 2, figsize=(14, 6))\n",
    "data['Pclass'].value_counts().plot.bar(color=['#CD7F32', '#FFDF00', '#D3D3D3'], ax=ax[0])\n",
    "ax[0].set_title('Number Of Passenger By Pclass')\n",
    "ax[0].set_ylabel('Count')\n",
    "sns.countplot('Pclass', hue='Survived', data=data, ax=ax[1])\n",
    "ax[1].set_title('Pclass: Survived vs Dead')\n",
    "plt.show()"
   ]
  },
  {
   "cell_type": "markdown",
   "metadata": {
    "collapsed": true
   },
   "source": [
    "People say **Money Can't Buy Everything.** But we can clearly see that Passengers Of Pcalss 1 were given a very high priority while rescue. Even though the the number of Passengers in Pcalss 3 were a lot higher, still the number of survival from them is very low, somewhere around **25%**.\n",
    "\n",
    "For Pclass1 survived is around **63%** while for Pclass2 is around **48%**. So money and status matters. Such a materialistic world.\n",
    "\n",
    "Lets Dive in little bit more and check for other interesting observations. Lets check survival rate with **Sex and Pcalss** Together."
   ]
  },
  {
   "cell_type": "code",
   "execution_count": 126,
   "metadata": {},
   "outputs": [
    {
     "data": {
      "text/html": [
       "<style  type=\"text/css\" >\n",
       "    #T_8dfd165a_fa89_11e7_84b3_784f435f77b9row0_col0 {\n",
       "            background-color:  #ffff66;\n",
       "        }    #T_8dfd165a_fa89_11e7_84b3_784f435f77b9row0_col1 {\n",
       "            background-color:  #ffff66;\n",
       "        }    #T_8dfd165a_fa89_11e7_84b3_784f435f77b9row0_col2 {\n",
       "            background-color:  #f1f866;\n",
       "        }    #T_8dfd165a_fa89_11e7_84b3_784f435f77b9row0_col3 {\n",
       "            background-color:  #ffff66;\n",
       "        }    #T_8dfd165a_fa89_11e7_84b3_784f435f77b9row1_col0 {\n",
       "            background-color:  #96cb66;\n",
       "        }    #T_8dfd165a_fa89_11e7_84b3_784f435f77b9row1_col1 {\n",
       "            background-color:  #a3d166;\n",
       "        }    #T_8dfd165a_fa89_11e7_84b3_784f435f77b9row1_col2 {\n",
       "            background-color:  #f1f866;\n",
       "        }    #T_8dfd165a_fa89_11e7_84b3_784f435f77b9row1_col3 {\n",
       "            background-color:  #cfe766;\n",
       "        }    #T_8dfd165a_fa89_11e7_84b3_784f435f77b9row2_col0 {\n",
       "            background-color:  #a7d366;\n",
       "        }    #T_8dfd165a_fa89_11e7_84b3_784f435f77b9row2_col1 {\n",
       "            background-color:  #85c266;\n",
       "        }    #T_8dfd165a_fa89_11e7_84b3_784f435f77b9row2_col2 {\n",
       "            background-color:  #6eb666;\n",
       "        }    #T_8dfd165a_fa89_11e7_84b3_784f435f77b9row2_col3 {\n",
       "            background-color:  #85c266;\n",
       "        }    #T_8dfd165a_fa89_11e7_84b3_784f435f77b9row3_col0 {\n",
       "            background-color:  #cde666;\n",
       "        }    #T_8dfd165a_fa89_11e7_84b3_784f435f77b9row3_col1 {\n",
       "            background-color:  #f0f866;\n",
       "        }    #T_8dfd165a_fa89_11e7_84b3_784f435f77b9row3_col2 {\n",
       "            background-color:  #ffff66;\n",
       "        }    #T_8dfd165a_fa89_11e7_84b3_784f435f77b9row3_col3 {\n",
       "            background-color:  #f7fb66;\n",
       "        }    #T_8dfd165a_fa89_11e7_84b3_784f435f77b9row4_col0 {\n",
       "            background-color:  #008066;\n",
       "        }    #T_8dfd165a_fa89_11e7_84b3_784f435f77b9row4_col1 {\n",
       "            background-color:  #008066;\n",
       "        }    #T_8dfd165a_fa89_11e7_84b3_784f435f77b9row4_col2 {\n",
       "            background-color:  #008066;\n",
       "        }    #T_8dfd165a_fa89_11e7_84b3_784f435f77b9row4_col3 {\n",
       "            background-color:  #008066;\n",
       "        }</style>  \n",
       "<table id=\"T_8dfd165a_fa89_11e7_84b3_784f435f77b9\" > \n",
       "<thead>    <tr> \n",
       "        <th class=\"blank\" ></th> \n",
       "        <th class=\"index_name level0\" >Pclass</th> \n",
       "        <th class=\"col_heading level0 col0\" >1</th> \n",
       "        <th class=\"col_heading level0 col1\" >2</th> \n",
       "        <th class=\"col_heading level0 col2\" >3</th> \n",
       "        <th class=\"col_heading level0 col3\" >All</th> \n",
       "    </tr>    <tr> \n",
       "        <th class=\"index_name level0\" >Sex</th> \n",
       "        <th class=\"index_name level1\" >Survived</th> \n",
       "        <th class=\"blank\" ></th> \n",
       "        <th class=\"blank\" ></th> \n",
       "        <th class=\"blank\" ></th> \n",
       "        <th class=\"blank\" ></th> \n",
       "    </tr></thead> \n",
       "<tbody>    <tr> \n",
       "        <th id=\"T_8dfd165a_fa89_11e7_84b3_784f435f77b9level0_row0\" class=\"row_heading level0 row0\" rowspan=2>female</th> \n",
       "        <th id=\"T_8dfd165a_fa89_11e7_84b3_784f435f77b9level1_row0\" class=\"row_heading level1 row0\" >0</th> \n",
       "        <td id=\"T_8dfd165a_fa89_11e7_84b3_784f435f77b9row0_col0\" class=\"data row0 col0\" >3</td> \n",
       "        <td id=\"T_8dfd165a_fa89_11e7_84b3_784f435f77b9row0_col1\" class=\"data row0 col1\" >6</td> \n",
       "        <td id=\"T_8dfd165a_fa89_11e7_84b3_784f435f77b9row0_col2\" class=\"data row0 col2\" >72</td> \n",
       "        <td id=\"T_8dfd165a_fa89_11e7_84b3_784f435f77b9row0_col3\" class=\"data row0 col3\" >81</td> \n",
       "    </tr>    <tr> \n",
       "        <th id=\"T_8dfd165a_fa89_11e7_84b3_784f435f77b9level1_row1\" class=\"row_heading level1 row1\" >1</th> \n",
       "        <td id=\"T_8dfd165a_fa89_11e7_84b3_784f435f77b9row1_col0\" class=\"data row1 col0\" >91</td> \n",
       "        <td id=\"T_8dfd165a_fa89_11e7_84b3_784f435f77b9row1_col1\" class=\"data row1 col1\" >70</td> \n",
       "        <td id=\"T_8dfd165a_fa89_11e7_84b3_784f435f77b9row1_col2\" class=\"data row1 col2\" >72</td> \n",
       "        <td id=\"T_8dfd165a_fa89_11e7_84b3_784f435f77b9row1_col3\" class=\"data row1 col3\" >233</td> \n",
       "    </tr>    <tr> \n",
       "        <th id=\"T_8dfd165a_fa89_11e7_84b3_784f435f77b9level0_row2\" class=\"row_heading level0 row2\" rowspan=2>male</th> \n",
       "        <th id=\"T_8dfd165a_fa89_11e7_84b3_784f435f77b9level1_row2\" class=\"row_heading level1 row2\" >0</th> \n",
       "        <td id=\"T_8dfd165a_fa89_11e7_84b3_784f435f77b9row2_col0\" class=\"data row2 col0\" >77</td> \n",
       "        <td id=\"T_8dfd165a_fa89_11e7_84b3_784f435f77b9row2_col1\" class=\"data row2 col1\" >91</td> \n",
       "        <td id=\"T_8dfd165a_fa89_11e7_84b3_784f435f77b9row2_col2\" class=\"data row2 col2\" >300</td> \n",
       "        <td id=\"T_8dfd165a_fa89_11e7_84b3_784f435f77b9row2_col3\" class=\"data row2 col3\" >468</td> \n",
       "    </tr>    <tr> \n",
       "        <th id=\"T_8dfd165a_fa89_11e7_84b3_784f435f77b9level1_row3\" class=\"row_heading level1 row3\" >1</th> \n",
       "        <td id=\"T_8dfd165a_fa89_11e7_84b3_784f435f77b9row3_col0\" class=\"data row3 col0\" >45</td> \n",
       "        <td id=\"T_8dfd165a_fa89_11e7_84b3_784f435f77b9row3_col1\" class=\"data row3 col1\" >17</td> \n",
       "        <td id=\"T_8dfd165a_fa89_11e7_84b3_784f435f77b9row3_col2\" class=\"data row3 col2\" >47</td> \n",
       "        <td id=\"T_8dfd165a_fa89_11e7_84b3_784f435f77b9row3_col3\" class=\"data row3 col3\" >109</td> \n",
       "    </tr>    <tr> \n",
       "        <th id=\"T_8dfd165a_fa89_11e7_84b3_784f435f77b9level0_row4\" class=\"row_heading level0 row4\" >All</th> \n",
       "        <th id=\"T_8dfd165a_fa89_11e7_84b3_784f435f77b9level1_row4\" class=\"row_heading level1 row4\" ></th> \n",
       "        <td id=\"T_8dfd165a_fa89_11e7_84b3_784f435f77b9row4_col0\" class=\"data row4 col0\" >216</td> \n",
       "        <td id=\"T_8dfd165a_fa89_11e7_84b3_784f435f77b9row4_col1\" class=\"data row4 col1\" >184</td> \n",
       "        <td id=\"T_8dfd165a_fa89_11e7_84b3_784f435f77b9row4_col2\" class=\"data row4 col2\" >491</td> \n",
       "        <td id=\"T_8dfd165a_fa89_11e7_84b3_784f435f77b9row4_col3\" class=\"data row4 col3\" >891</td> \n",
       "    </tr></tbody> \n",
       "</table> "
      ],
      "text/plain": [
       "<pandas.io.formats.style.Styler at 0x1160f2a58>"
      ]
     },
     "execution_count": 126,
     "metadata": {},
     "output_type": "execute_result"
    }
   ],
   "source": [
    "pd.crosstab([data.Sex, data.Survived], data.Pclass, margins=True).style.background_gradient(cmap='summer_r')"
   ]
  },
  {
   "cell_type": "code",
   "execution_count": 131,
   "metadata": {},
   "outputs": [
    {
     "data": {
      "image/png": "[encoded data removed]",
      "text/plain": [
       "<matplotlib.figure.Figure at 0x11934d8d0>"
      ]
     },
     "metadata": {},
     "output_type": "display_data"
    }
   ],
   "source": [
    "sns.factorplot('Pclass', 'Survived', hue='Sex', data=data)\n",
    "plt.show()"
   ]
  },
  {
   "cell_type": "markdown",
   "metadata": {
    "collapsed": true
   },
   "source": [
    "We use **FactorPlot** in this case, because they make the seperation of categorical values easy.\n",
    "\n",
    "looking at the **Cross Tab** and the **FactorPlot,** we can easily infer that survival for **Women from Pclass1** is about **95-96%**, as only 3 out of 94 Women from Pclass1 died.\n",
    "\n",
    "It is evident that irrenspective of Pclass, Women were given first priority while rescue. Even Pclass1 have a very low survival rate.\n",
    "\n",
    "Looks like Pclass is also an important feature. Lets analyse other features."
   ]
  },
  {
   "cell_type": "code",
   "execution_count": null,
   "metadata": {
    "collapsed": true
   },
   "outputs": [],
   "source": []
  },
  {
   "cell_type": "code",
   "execution_count": null,
   "metadata": {
    "collapsed": true
   },
   "outputs": [],
   "source": []
  },
  {
   "cell_type": "code",
   "execution_count": null,
   "metadata": {
    "collapsed": true
   },
   "outputs": [],
   "source": []
  },
  {
   "cell_type": "code",
   "execution_count": null,
   "metadata": {
    "collapsed": true
   },
   "outputs": [],
   "source": []
  },
  {
   "cell_type": "code",
   "execution_count": null,
   "metadata": {
    "collapsed": true
   },
   "outputs": [],
   "source": []
  },
  {
   "cell_type": "code",
   "execution_count": null,
   "metadata": {
    "collapsed": true
   },
   "outputs": [],
   "source": []
  },
  {
   "cell_type": "code",
   "execution_count": null,
   "metadata": {
    "collapsed": true
   },
   "outputs": [],
   "source": []
  },
  {
   "cell_type": "code",
   "execution_count": null,
   "metadata": {
    "collapsed": true
   },
   "outputs": [],
   "source": []
  },
  {
   "cell_type": "code",
   "execution_count": null,
   "metadata": {
    "collapsed": true
   },
   "outputs": [],
   "source": []
  },
  {
   "cell_type": "code",
   "execution_count": null,
   "metadata": {
    "collapsed": true
   },
   "outputs": [],
   "source": []
  }
 ],
 "metadata": {
  "kernelspec": {
   "display_name": "Python 3",
   "language": "python",
   "name": "python3"
  },
  "language_info": {
   "codemirror_mode": {
    "name": "ipython",
    "version": 3
   },
   "file_extension": ".py",
   "mimetype": "text/x-python",
   "name": "python",
   "nbconvert_exporter": "python",
   "pygments_lexer": "ipython3",
   "version": "3.6.2"
  },
  "toc": {
   "nav_menu": {},
   "number_sections": true,
   "sideBar": false,
   "skip_h1_title": false,
   "toc_cell": false,
   "toc_position": {
    "height": "683px",
    "left": "1px",
    "right": "864px",
    "top": "108px",
    "width": "215px"
   },
   "toc_section_display": "block",
   "toc_window_display": false
  }
 },
 "nbformat": 4,
 "nbformat_minor": 2
}
